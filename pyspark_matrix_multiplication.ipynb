{
  "nbformat": 4,
  "nbformat_minor": 0,
  "metadata": {
    "colab": {
      "provenance": [],
      "authorship_tag": "ABX9TyOG3ZwiZRPW9XYpogKKYGh7",
      "include_colab_link": true
    },
    "kernelspec": {
      "name": "python3",
      "display_name": "Python 3"
    },
    "language_info": {
      "name": "python"
    }
  },
  "cells": [
    {
      "cell_type": "markdown",
      "metadata": {
        "id": "view-in-github",
        "colab_type": "text"
      },
      "source": [
        "<a href=\"https://colab.research.google.com/github/thomouvic/CSC502/blob/main/pyspark_matrix_multiplication.ipynb\" target=\"_parent\"><img src=\"https://colab.research.google.com/assets/colab-badge.svg\" alt=\"Open In Colab\"/></a>"
      ]
    },
    {
      "cell_type": "markdown",
      "source": [
        "# Matrix Multiplication with Spark"
      ],
      "metadata": {
        "id": "vUJLhtCsmaZk"
      }
    },
    {
      "cell_type": "code",
      "execution_count": 1,
      "metadata": {
        "id": "se47DpF1mZnz"
      },
      "outputs": [],
      "source": [
        "!apt-get install openjdk-8-jdk-headless -qq > /dev/null\n",
        "!wget -q https://archive.apache.org/dist/spark/spark-3.3.2/spark-3.3.2-bin-hadoop2.tgz\n",
        "!tar xf spark-3.3.2-bin-hadoop2.tgz\n",
        "!pip install -q findspark\n",
        "import os\n",
        "os.environ[\"JAVA_HOME\"] = \"/usr/lib/jvm/java-8-openjdk-amd64\"\n",
        "os.environ[\"SPARK_HOME\"] = \"/content/spark-3.3.2-bin-hadoop2\"\n",
        "\n",
        "import findspark\n",
        "findspark.init(\"spark-3.3.2-bin-hadoop2\")# SPARK_HOME\n",
        "\n",
        "import pyspark\n",
        "from pyspark.sql import *\n",
        "from pyspark.sql.functions import *\n",
        "from pyspark import SparkContext, SparkConf\n",
        "\n",
        "sc = SparkContext.getOrCreate()\n",
        "spark = SparkSession.builder.getOrCreate()"
      ]
    },
    {
      "cell_type": "code",
      "source": [
        "M1 = M.map(lambda x: (x[1], ('M',x[0],x[2])))\t# x[1] is j\n",
        "N1 = N.map(lambda x: (x[0], ('N',x[1],x[2])))\t# x[0] is j\n",
        "\n",
        "print(M1.collect())\n",
        "print(N1.collect())"
      ],
      "metadata": {
        "colab": {
          "base_uri": "https://localhost:8080/",
          "height": 0
        },
        "id": "sD8lJFpypSCV",
        "outputId": "f399c90e-5c29-4b8a-a7fb-819971c8753c"
      },
      "execution_count": 6,
      "outputs": [
        {
          "output_type": "stream",
          "name": "stdout",
          "text": [
            "[(1, ('M', 1, 1)), (2, ('M', 1, 3)), (1, ('M', 2, 5)), (2, ('M', 2, 7))]\n",
            "[(1, ('N', 1, 2)), (1, ('N', 2, 4)), (2, ('N', 1, 6)), (2, ('N', 2, 8))]\n"
          ]
        }
      ]
    },
    {
      "cell_type": "code",
      "source": [
        "# M = [1  3\n",
        "#      5  7]\n",
        "\n",
        "# N = [2  4\n",
        "#      6  8]\n",
        "\n",
        "M = sc.parallelize([\n",
        "     (1,1,1), (1,2,3),\n",
        "     (2,1,5), (2,2,7)])\n",
        "\n",
        "N = sc.parallelize([\n",
        "     (1,1,2), (1,2,4),\n",
        "     (2,1,6), (2,2,8)])"
      ],
      "metadata": {
        "id": "IhQEvB0XoZbe"
      },
      "execution_count": 3,
      "outputs": []
    },
    {
      "cell_type": "code",
      "source": [
        "MN = M1.join(N1)\t# join on key\n",
        "\n",
        "print(MN.take(3))"
      ],
      "metadata": {
        "colab": {
          "base_uri": "https://localhost:8080/",
          "height": 0
        },
        "id": "wV2Y_tlupl5_",
        "outputId": "a03dd638-a8a6-4faf-a3b1-6ba9a059fe70"
      },
      "execution_count": 20,
      "outputs": [
        {
          "output_type": "stream",
          "name": "stdout",
          "text": [
            "[(1, (('M', 1, 1), ('N', 1, 2))), (1, (('M', 1, 1), ('N', 2, 4))), (1, (('M', 2, 5), ('N', 1, 2)))]\n"
          ]
        }
      ]
    },
    {
      "cell_type": "code",
      "source": [
        "def f(li):\n",
        "    # li is of the form (('M', i, m), ('N', k, n))\n",
        "    i = li[0][1]; k = li[1][1]\n",
        "    m = li[0][2]; n = li[1][2]\n",
        "    return ((i, k), m*n)"
      ],
      "metadata": {
        "id": "xoaHVznlqdBf"
      },
      "execution_count": 17,
      "outputs": []
    },
    {
      "cell_type": "code",
      "source": [
        "MNR1 = MN.map(lambda x: f(x[1]))\n",
        "\n",
        "print(MNR1.collect())"
      ],
      "metadata": {
        "colab": {
          "base_uri": "https://localhost:8080/",
          "height": 0
        },
        "id": "Hwwm-A8VtQQF",
        "outputId": "40666c43-5289-43ef-afa8-de808d59b0e9"
      },
      "execution_count": 18,
      "outputs": [
        {
          "output_type": "stream",
          "name": "stdout",
          "text": [
            "[((1, 1), 2), ((1, 2), 4), ((2, 1), 10), ((2, 2), 20), ((1, 1), 18), ((1, 2), 24), ((2, 1), 42), ((2, 2), 56)]\n"
          ]
        }
      ]
    },
    {
      "cell_type": "code",
      "source": [
        "Final = MNR1.reduceByKey(lambda a,b: a+b)\n",
        "print(Final.collect())"
      ],
      "metadata": {
        "colab": {
          "base_uri": "https://localhost:8080/",
          "height": 0
        },
        "id": "fa5PmMx3uCGM",
        "outputId": "1f1611dc-2af9-481a-8de2-6dd4c686ee18"
      },
      "execution_count": 19,
      "outputs": [
        {
          "output_type": "stream",
          "name": "stdout",
          "text": [
            "[((1, 1), 20), ((1, 2), 28), ((2, 2), 76), ((2, 1), 52)]\n"
          ]
        }
      ]
    }
  ]
}