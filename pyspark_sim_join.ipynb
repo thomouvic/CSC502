{
  "nbformat": 4,
  "nbformat_minor": 0,
  "metadata": {
    "colab": {
      "provenance": [],
      "authorship_tag": "ABX9TyNWQOXBin596R582ewbdGsT",
      "include_colab_link": true
    },
    "kernelspec": {
      "name": "python3",
      "display_name": "Python 3"
    },
    "language_info": {
      "name": "python"
    }
  },
  "cells": [
    {
      "cell_type": "markdown",
      "metadata": {
        "id": "view-in-github",
        "colab_type": "text"
      },
      "source": [
        "<a href=\"https://colab.research.google.com/github/thomouvic/CSC502/blob/main/pyspark_sim_join.ipynb\" target=\"_parent\"><img src=\"https://colab.research.google.com/assets/colab-badge.svg\" alt=\"Open In Colab\"/></a>"
      ]
    },
    {
      "cell_type": "markdown",
      "source": [
        "# Similarity Join\n",
        "\n",
        "**Original Problem Description**\n",
        "\n",
        "Suppose we have a collection of n=1,000,000 images, each of size 1MB.\n",
        "Dataset has size 1TB.\n",
        "Goal is to discover pairs of images that are similar using some similarity function s(x,y).\n",
        "\n",
        "**MapReduce Algorithm**\n",
        "\n",
        "Input to **mappers** is key-value pairs (i, Pi), i is ID for the picture and Pi is the picture itself.\n",
        "\n",
        "**Map**(i, Pi) emits ({i,j}, Pi) for each j in [1,n].\n",
        "\n",
        "*{i,j} is to be considered a set, i.e. {2,3} and {3,2} are the same key*\n",
        "\n",
        "Input to a reducer will be ({i, j}, [Pi , Pj])\n",
        "\n",
        "**Reduce** function simply applies s(Pi ,Pj)"
      ],
      "metadata": {
        "id": "Tkfmz3TV-UwH"
      }
    },
    {
      "cell_type": "code",
      "execution_count": 2,
      "metadata": {
        "id": "fHPmxWL4yF8Y"
      },
      "outputs": [],
      "source": [
        "!apt-get install openjdk-8-jdk-headless -qq > /dev/null\n",
        "!wget -q https://archive.apache.org/dist/spark/spark-3.3.2/spark-3.3.2-bin-hadoop2.tgz\n",
        "!tar xf spark-3.3.2-bin-hadoop2.tgz\n",
        "!pip install -q findspark\n",
        "import os\n",
        "os.environ[\"JAVA_HOME\"] = \"/usr/lib/jvm/java-8-openjdk-amd64\"\n",
        "os.environ[\"SPARK_HOME\"] = \"/content/spark-3.3.2-bin-hadoop2\"\n",
        "\n",
        "import findspark\n",
        "findspark.init(\"spark-3.3.2-bin-hadoop2\")# SPARK_HOME\n",
        "\n",
        "import pyspark\n",
        "from pyspark.sql import *\n",
        "from pyspark.sql.functions import *\n",
        "from pyspark import SparkContext, SparkConf\n",
        "\n",
        "sc = SparkContext.getOrCreate()\n",
        "spark = SparkSession.builder.getOrCreate()"
      ]
    },
    {
      "cell_type": "code",
      "source": [
        "from scipy.spatial import distance\n",
        "\n",
        "# Sample 2D vectors for pics\n",
        "sample_data = [(0, [1, 2]), (1, [2, 3]), (2, [3, 4]), (3, [4, 5])]\n",
        "\n",
        "# Parallelize the sample data\n",
        "R = sc.parallelize(sample_data)\n",
        "\n",
        "n = R.count()"
      ],
      "metadata": {
        "id": "6Co5CC5VyOE2"
      },
      "execution_count": 40,
      "outputs": []
    },
    {
      "cell_type": "code",
      "source": [
        "# this is so that we can use a set of two elements as a key for a pair\n",
        "h = lambda a, b: ','.join(sorted([str(a), str(b)]))\n",
        "\n",
        "print(h(2,1))"
      ],
      "metadata": {
        "colab": {
          "base_uri": "https://localhost:8080/"
        },
        "id": "1yOFIei81fE-",
        "outputId": "902099f3-efbf-4335-ea45-19f901df7278"
      },
      "execution_count": 41,
      "outputs": [
        {
          "output_type": "stream",
          "name": "stdout",
          "text": [
            "1,2\n"
          ]
        }
      ]
    },
    {
      "cell_type": "code",
      "source": [
        "# this is a simple similarity function, just for testing\n",
        "s = lambda pi, pj: 1 - distance.cosine(pi, pj)\n",
        "\n",
        "print(s([1,2],[2,3]))"
      ],
      "metadata": {
        "colab": {
          "base_uri": "https://localhost:8080/"
        },
        "id": "TfWrp4DY4jAo",
        "outputId": "04fee91c-4d7c-4e05-b8b8-3ce3e3a2beda"
      },
      "execution_count": 42,
      "outputs": [
        {
          "output_type": "stream",
          "name": "stdout",
          "text": [
            "0.9922778767136677\n"
          ]
        }
      ]
    },
    {
      "cell_type": "code",
      "source": [
        "# x is id-pic pair\n",
        "R_emit = R.flatMap(lambda x: [(h(x[0], j), x) for j in range(n) if j!=x[0]])\n",
        "# (h(i,j), (i,P_i)) elements.\n",
        "\n",
        "print(R_emit.collect())"
      ],
      "metadata": {
        "colab": {
          "base_uri": "https://localhost:8080/"
        },
        "id": "ecnFmHhB1jWk",
        "outputId": "2e5e7e50-56ce-4620-94c3-20f344ec234a"
      },
      "execution_count": 43,
      "outputs": [
        {
          "output_type": "stream",
          "name": "stdout",
          "text": [
            "[('0,1', (0, [1, 2])), ('0,2', (0, [1, 2])), ('0,3', (0, [1, 2])), ('0,1', (1, [2, 3])), ('1,2', (1, [2, 3])), ('1,3', (1, [2, 3])), ('0,2', (2, [3, 4])), ('1,2', (2, [3, 4])), ('2,3', (2, [3, 4])), ('0,3', (3, [4, 5])), ('1,3', (3, [4, 5])), ('2,3', (3, [4, 5]))]\n"
          ]
        }
      ]
    },
    {
      "cell_type": "code",
      "source": [
        "S = R_emit.groupByKey()\n",
        "# (h(i,j), [(i,P_i), (j,P_j)]) elements.\n",
        "\n",
        "print(S.map(lambda x: (x[0],list(x[1]))).collect())"
      ],
      "metadata": {
        "colab": {
          "base_uri": "https://localhost:8080/"
        },
        "id": "_7itKN6H1nrk",
        "outputId": "8c564169-2995-41e2-c8a2-2fbed776eeb8"
      },
      "execution_count": 44,
      "outputs": [
        {
          "output_type": "stream",
          "name": "stdout",
          "text": [
            "[('0,2', [(0, [1, 2]), (2, [3, 4])]), ('0,3', [(0, [1, 2]), (3, [4, 5])]), ('1,2', [(1, [2, 3]), (2, [3, 4])]), ('1,3', [(1, [2, 3]), (3, [4, 5])]), ('0,1', [(0, [1, 2]), (1, [2, 3])]), ('2,3', [(2, [3, 4]), (3, [4, 5])])]\n"
          ]
        }
      ]
    },
    {
      "cell_type": "code",
      "source": [
        "t = 0.9  # similarity threshold\n",
        "\n",
        "# function that takes a list of tuples containing indices and vectors (i, P_i)\n",
        "# and returns a list of pairs (i,j) where the similarity between P_i and P_j\n",
        "# is above the threshold\n",
        "f = lambda li: [(i, j) for (i, Pi) in li for (j, Pj) in li if i < j and s(Pi, Pj) > t]\n",
        "\n",
        "T = S.flatMap(lambda x: f(x[1]))\n",
        "\n",
        "# Collect the result\n",
        "result = T.collect()\n",
        "\n",
        "print(result)"
      ],
      "metadata": {
        "colab": {
          "base_uri": "https://localhost:8080/"
        },
        "id": "ypR8xOR35SvG",
        "outputId": "ad1ce38d-a610-4d6a-a205-cf896217813a"
      },
      "execution_count": 45,
      "outputs": [
        {
          "output_type": "stream",
          "name": "stdout",
          "text": [
            "[(0, 2), (0, 3), (1, 2), (1, 3), (0, 1), (2, 3)]\n"
          ]
        }
      ]
    }
  ]
}