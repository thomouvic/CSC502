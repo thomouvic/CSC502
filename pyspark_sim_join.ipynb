{
  "nbformat": 4,
  "nbformat_minor": 0,
  "metadata": {
    "colab": {
      "provenance": [],
      "authorship_tag": "ABX9TyPW355qxIYDaMWqC+xsEY9L",
      "include_colab_link": true
    },
    "kernelspec": {
      "name": "python3",
      "display_name": "Python 3"
    },
    "language_info": {
      "name": "python"
    }
  },
  "cells": [
    {
      "cell_type": "markdown",
      "metadata": {
        "id": "view-in-github",
        "colab_type": "text"
      },
      "source": [
        "<a href=\"https://colab.research.google.com/github/thomouvic/CSC502/blob/main/pyspark_sim_join.ipynb\" target=\"_parent\"><img src=\"https://colab.research.google.com/assets/colab-badge.svg\" alt=\"Open In Colab\"/></a>"
      ]
    },
    {
      "cell_type": "code",
      "execution_count": 2,
      "metadata": {
        "id": "fHPmxWL4yF8Y"
      },
      "outputs": [],
      "source": [
        "!apt-get install openjdk-8-jdk-headless -qq > /dev/null\n",
        "!wget -q https://archive.apache.org/dist/spark/spark-3.3.2/spark-3.3.2-bin-hadoop2.tgz\n",
        "!tar xf spark-3.3.2-bin-hadoop2.tgz\n",
        "!pip install -q findspark\n",
        "import os\n",
        "os.environ[\"JAVA_HOME\"] = \"/usr/lib/jvm/java-8-openjdk-amd64\"\n",
        "os.environ[\"SPARK_HOME\"] = \"/content/spark-3.3.2-bin-hadoop2\"\n",
        "\n",
        "import findspark\n",
        "findspark.init(\"spark-3.3.2-bin-hadoop2\")# SPARK_HOME\n",
        "\n",
        "import pyspark\n",
        "from pyspark.sql import *\n",
        "from pyspark.sql.functions import *\n",
        "from pyspark import SparkContext, SparkConf\n",
        "\n",
        "sc = SparkContext.getOrCreate()\n",
        "spark = SparkSession.builder.getOrCreate()"
      ]
    },
    {
      "cell_type": "code",
      "source": [
        "from scipy.spatial import distance\n",
        "\n",
        "# Sample 2D vectors for pics\n",
        "sample_data = [(0, [1, 2]), (1, [2, 3]), (2, [3, 4]), (3, [4, 5])]\n",
        "\n",
        "# Parallelize the sample data\n",
        "R = sc.parallelize(sample_data)\n",
        "\n",
        "n = R.count()"
      ],
      "metadata": {
        "id": "6Co5CC5VyOE2"
      },
      "execution_count": 30,
      "outputs": []
    },
    {
      "cell_type": "code",
      "source": [
        "# this is so that we can use a set of two elements as a key for a pair\n",
        "h = lambda a, b: ','.join(sorted([str(a), str(b)]))\n",
        "\n",
        "print(h(2,1))"
      ],
      "metadata": {
        "colab": {
          "base_uri": "https://localhost:8080/"
        },
        "id": "1yOFIei81fE-",
        "outputId": "d7d43fbc-5949-4da5-f566-bebcb059849e"
      },
      "execution_count": 31,
      "outputs": [
        {
          "output_type": "stream",
          "name": "stdout",
          "text": [
            "1,2\n"
          ]
        }
      ]
    },
    {
      "cell_type": "code",
      "source": [
        "# this is a simple similarity function, just for testing\n",
        "s = lambda pi, pj: 1 - distance.cosine(pi, pj)\n",
        "\n",
        "print(s([1,2],[2,3]))"
      ],
      "metadata": {
        "colab": {
          "base_uri": "https://localhost:8080/"
        },
        "id": "TfWrp4DY4jAo",
        "outputId": "4d6a4526-26a8-4b85-c06a-654d4a38002e"
      },
      "execution_count": 32,
      "outputs": [
        {
          "output_type": "stream",
          "name": "stdout",
          "text": [
            "0.9922778767136677\n"
          ]
        }
      ]
    },
    {
      "cell_type": "code",
      "source": [
        "# x is id-pic pair\n",
        "R_emit = R.flatMap(lambda x: [(h(x[0], j), x) for j in range(n) if j!=x[0]])\n",
        "# (h(i,j), (i,P_i)) elements.\n",
        "\n",
        "print(R_emit.collect())"
      ],
      "metadata": {
        "colab": {
          "base_uri": "https://localhost:8080/"
        },
        "id": "ecnFmHhB1jWk",
        "outputId": "bcc5745f-334f-492f-928c-44a296fc30b0"
      },
      "execution_count": 35,
      "outputs": [
        {
          "output_type": "stream",
          "name": "stdout",
          "text": [
            "[('0,1', (0, [1, 2])), ('0,2', (0, [1, 2])), ('0,3', (0, [1, 2])), ('0,1', (1, [2, 3])), ('1,2', (1, [2, 3])), ('1,3', (1, [2, 3])), ('0,2', (2, [3, 4])), ('1,2', (2, [3, 4])), ('2,3', (2, [3, 4])), ('0,3', (3, [4, 5])), ('1,3', (3, [4, 5])), ('2,3', (3, [4, 5]))]\n"
          ]
        }
      ]
    },
    {
      "cell_type": "code",
      "source": [
        "S = R_emit.groupByKey()\n",
        "# (h(i,j), [(i,P_i), (j,P_j)]) elements.\n",
        "\n",
        "print(S.map(lambda x: (x[0],list(x[1]))).collect())"
      ],
      "metadata": {
        "colab": {
          "base_uri": "https://localhost:8080/"
        },
        "id": "_7itKN6H1nrk",
        "outputId": "b5dbee68-01d8-41ba-867e-bab1d5be5dad"
      },
      "execution_count": 38,
      "outputs": [
        {
          "output_type": "stream",
          "name": "stdout",
          "text": [
            "[('0,2', [(0, [1, 2]), (2, [3, 4])]), ('0,3', [(0, [1, 2]), (3, [4, 5])]), ('1,2', [(1, [2, 3]), (2, [3, 4])]), ('1,3', [(1, [2, 3]), (3, [4, 5])]), ('0,1', [(0, [1, 2]), (1, [2, 3])]), ('2,3', [(2, [3, 4]), (3, [4, 5])])]\n"
          ]
        }
      ]
    },
    {
      "cell_type": "code",
      "source": [
        "t = 0.9  # similarity threshold\n",
        "\n",
        "# function that takes a list of tuples containing indices and vectors (i, P_i)\n",
        "# and returns a list of pairs (i,j) where the similarity between P_i and P_j\n",
        "# is above the threshold\n",
        "f = lambda li: [(i, j) for (i, Pi) in li for (j, Pj) in li if i < j and s(Pi, Pj) > t]\n",
        "\n",
        "T = S.flatMap(lambda x: f(x[1]))\n",
        "\n",
        "# Collect the result\n",
        "result = T.collect()\n",
        "\n",
        "print(result)"
      ],
      "metadata": {
        "colab": {
          "base_uri": "https://localhost:8080/"
        },
        "id": "ypR8xOR35SvG",
        "outputId": "1649ca1c-9374-48a4-e310-eb872f047b6b"
      },
      "execution_count": 39,
      "outputs": [
        {
          "output_type": "stream",
          "name": "stdout",
          "text": [
            "[(0, 2), (0, 3), (1, 2), (1, 3), (0, 1), (2, 3)]\n"
          ]
        }
      ]
    }
  ]
}