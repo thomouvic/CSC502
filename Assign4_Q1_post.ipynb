{
  "nbformat": 4,
  "nbformat_minor": 0,
  "metadata": {
    "kernelspec": {
      "display_name": "Python 3",
      "language": "python",
      "name": "python3"
    },
    "language_info": {
      "codemirror_mode": {
        "name": "ipython",
        "version": 3
      },
      "file_extension": ".py",
      "mimetype": "text/x-python",
      "name": "python",
      "nbconvert_exporter": "python",
      "pygments_lexer": "ipython3",
      "version": "3.7.3"
    },
    "colab": {
      "provenance": [],
      "machine_shape": "hm",
      "include_colab_link": true
    }
  },
  "cells": [
    {
      "cell_type": "markdown",
      "metadata": {
        "id": "view-in-github",
        "colab_type": "text"
      },
      "source": [
        "<a href=\"https://colab.research.google.com/github/thomouvic/CSC502/blob/main/Assign4_Q1_post.ipynb\" target=\"_parent\"><img src=\"https://colab.research.google.com/assets/colab-badge.svg\" alt=\"Open In Colab\"/></a>"
      ]
    },
    {
      "cell_type": "markdown",
      "metadata": {
        "id": "oLl-iOQMXKX5"
      },
      "source": [
        "Complete this notebook. See TODO cells. This exercise uses the movielens dataset we used in the previous assignment, but now we will analyze it using dataframes. "
      ]
    },
    {
      "cell_type": "markdown",
      "metadata": {
        "id": "AbYZoVVWOZA5"
      },
      "source": [
        "Let's setup Spark on your Colab environment.  Run the two cells below!"
      ]
    },
    {
      "cell_type": "code",
      "source": [
        "!apt-get install openjdk-8-jdk-headless -qq > /dev/null\n",
        "!wget -q https://archive.apache.org/dist/spark/spark-3.3.2/spark-3.3.2-bin-hadoop2.tgz\n",
        "!tar xf spark-3.3.2-bin-hadoop2.tgz"
      ],
      "metadata": {
        "id": "19kfSlC0aRLL"
      },
      "execution_count": 1,
      "outputs": []
    },
    {
      "cell_type": "code",
      "source": [
        "!pip install -q findspark\n",
        "\n",
        "import os\n",
        "os.environ[\"JAVA_HOME\"] = \"/usr/lib/jvm/java-8-openjdk-amd64\"\n",
        "os.environ[\"SPARK_HOME\"] = \"/content/spark-3.3.2-bin-hadoop2\"\n",
        "\n",
        "import findspark\n",
        "findspark.init(\"spark-3.3.2-bin-hadoop2\")# SPARK_HOME\n",
        "\n",
        "import pyspark\n",
        "from pyspark.sql import *\n",
        "from pyspark.sql.functions import *\n",
        "from pyspark import SparkContext, SparkConf\n",
        "\n",
        "sc = SparkContext.getOrCreate()\n",
        "spark = SparkSession.builder.getOrCreate()"
      ],
      "metadata": {
        "id": "hZZlaqdGafg_"
      },
      "execution_count": 2,
      "outputs": []
    },
    {
      "cell_type": "code",
      "metadata": {
        "id": "XLyVPuLXSagK",
        "colab": {
          "base_uri": "https://localhost:8080/"
        },
        "outputId": "98fb949b-dc8d-4528-fa9b-26d4a7a730ff"
      },
      "source": [
        "!wget http://files.grouplens.org/datasets/movielens/ml-latest-small.zip\n",
        "!unzip ml-latest-small.zip"
      ],
      "execution_count": 3,
      "outputs": [
        {
          "output_type": "stream",
          "name": "stdout",
          "text": [
            "--2023-03-27 00:14:54--  http://files.grouplens.org/datasets/movielens/ml-latest-small.zip\n",
            "Resolving files.grouplens.org (files.grouplens.org)... 128.101.65.152\n",
            "Connecting to files.grouplens.org (files.grouplens.org)|128.101.65.152|:80... connected.\n",
            "HTTP request sent, awaiting response... 200 OK\n",
            "Length: 978202 (955K) [application/zip]\n",
            "Saving to: ‘ml-latest-small.zip’\n",
            "\n",
            "ml-latest-small.zip 100%[===================>] 955.28K   942KB/s    in 1.0s    \n",
            "\n",
            "2023-03-27 00:14:56 (942 KB/s) - ‘ml-latest-small.zip’ saved [978202/978202]\n",
            "\n",
            "Archive:  ml-latest-small.zip\n",
            "   creating: ml-latest-small/\n",
            "  inflating: ml-latest-small/links.csv  \n",
            "  inflating: ml-latest-small/tags.csv  \n",
            "  inflating: ml-latest-small/ratings.csv  \n",
            "  inflating: ml-latest-small/README.txt  \n",
            "  inflating: ml-latest-small/movies.csv  \n"
          ]
        }
      ]
    },
    {
      "cell_type": "code",
      "metadata": {
        "id": "vKwTTpFEg8qR"
      },
      "source": [
        "ratings = spark.read.csv(\"ml-latest-small/ratings.csv\", header=True)\n",
        "movies = spark.read.csv(\"ml-latest-small/movies.csv\", header=True)"
      ],
      "execution_count": 4,
      "outputs": []
    },
    {
      "cell_type": "markdown",
      "metadata": {
        "id": "MP2JmCeoSagM"
      },
      "source": [
        "Check the schema:"
      ]
    },
    {
      "cell_type": "code",
      "metadata": {
        "id": "KpUT8viNSagM",
        "colab": {
          "base_uri": "https://localhost:8080/"
        },
        "outputId": "e080400b-226a-4bbd-d644-1e75f3ed57ab"
      },
      "source": [
        "ratings.printSchema()\n",
        "movies.printSchema()"
      ],
      "execution_count": 5,
      "outputs": [
        {
          "output_type": "stream",
          "name": "stdout",
          "text": [
            "root\n",
            " |-- userId: string (nullable = true)\n",
            " |-- movieId: string (nullable = true)\n",
            " |-- rating: string (nullable = true)\n",
            " |-- timestamp: string (nullable = true)\n",
            "\n",
            "root\n",
            " |-- movieId: string (nullable = true)\n",
            " |-- title: string (nullable = true)\n",
            " |-- genres: string (nullable = true)\n",
            "\n"
          ]
        }
      ]
    },
    {
      "cell_type": "markdown",
      "metadata": {
        "id": "1jP5IBezSagQ"
      },
      "source": [
        "Get a sample with `take()`:"
      ]
    },
    {
      "cell_type": "code",
      "metadata": {
        "id": "jrJpiG5ISagQ",
        "colab": {
          "base_uri": "https://localhost:8080/"
        },
        "outputId": "5acdfb8b-d355-4f5f-b275-2869d03b9a57"
      },
      "source": [
        "ratings.take(3)"
      ],
      "execution_count": 6,
      "outputs": [
        {
          "output_type": "execute_result",
          "data": {
            "text/plain": [
              "[Row(userId='1', movieId='1', rating='4.0', timestamp='964982703'),\n",
              " Row(userId='1', movieId='3', rating='4.0', timestamp='964981247'),\n",
              " Row(userId='1', movieId='6', rating='4.0', timestamp='964982224')]"
            ]
          },
          "metadata": {},
          "execution_count": 6
        }
      ]
    },
    {
      "cell_type": "markdown",
      "metadata": {
        "id": "iu7n8KKjSagS"
      },
      "source": [
        "Get a formatted sample with `show()`:"
      ]
    },
    {
      "cell_type": "code",
      "metadata": {
        "id": "nwYZrwanSagT",
        "colab": {
          "base_uri": "https://localhost:8080/"
        },
        "outputId": "833c20f7-2b52-460f-a35a-8e8c4889c2de"
      },
      "source": [
        "ratings.show()"
      ],
      "execution_count": 7,
      "outputs": [
        {
          "output_type": "stream",
          "name": "stdout",
          "text": [
            "+------+-------+------+---------+\n",
            "|userId|movieId|rating|timestamp|\n",
            "+------+-------+------+---------+\n",
            "|     1|      1|   4.0|964982703|\n",
            "|     1|      3|   4.0|964981247|\n",
            "|     1|      6|   4.0|964982224|\n",
            "|     1|     47|   5.0|964983815|\n",
            "|     1|     50|   5.0|964982931|\n",
            "|     1|     70|   3.0|964982400|\n",
            "|     1|    101|   5.0|964980868|\n",
            "|     1|    110|   4.0|964982176|\n",
            "|     1|    151|   5.0|964984041|\n",
            "|     1|    157|   5.0|964984100|\n",
            "|     1|    163|   5.0|964983650|\n",
            "|     1|    216|   5.0|964981208|\n",
            "|     1|    223|   3.0|964980985|\n",
            "|     1|    231|   5.0|964981179|\n",
            "|     1|    235|   4.0|964980908|\n",
            "|     1|    260|   5.0|964981680|\n",
            "|     1|    296|   3.0|964982967|\n",
            "|     1|    316|   3.0|964982310|\n",
            "|     1|    333|   5.0|964981179|\n",
            "|     1|    349|   4.0|964982563|\n",
            "+------+-------+------+---------+\n",
            "only showing top 20 rows\n",
            "\n"
          ]
        }
      ]
    },
    {
      "cell_type": "code",
      "metadata": {
        "colab": {
          "base_uri": "https://localhost:8080/"
        },
        "id": "Zj8muhOD2Z81",
        "outputId": "f3d53494-8c00-4911-b0cd-415a25376aa5"
      },
      "source": [
        "movies.show()"
      ],
      "execution_count": 8,
      "outputs": [
        {
          "output_type": "stream",
          "name": "stdout",
          "text": [
            "+-------+--------------------+--------------------+\n",
            "|movieId|               title|              genres|\n",
            "+-------+--------------------+--------------------+\n",
            "|      1|    Toy Story (1995)|Adventure|Animati...|\n",
            "|      2|      Jumanji (1995)|Adventure|Childre...|\n",
            "|      3|Grumpier Old Men ...|      Comedy|Romance|\n",
            "|      4|Waiting to Exhale...|Comedy|Drama|Romance|\n",
            "|      5|Father of the Bri...|              Comedy|\n",
            "|      6|         Heat (1995)|Action|Crime|Thri...|\n",
            "|      7|      Sabrina (1995)|      Comedy|Romance|\n",
            "|      8| Tom and Huck (1995)|  Adventure|Children|\n",
            "|      9| Sudden Death (1995)|              Action|\n",
            "|     10|    GoldenEye (1995)|Action|Adventure|...|\n",
            "|     11|American Presiden...|Comedy|Drama|Romance|\n",
            "|     12|Dracula: Dead and...|       Comedy|Horror|\n",
            "|     13|        Balto (1995)|Adventure|Animati...|\n",
            "|     14|        Nixon (1995)|               Drama|\n",
            "|     15|Cutthroat Island ...|Action|Adventure|...|\n",
            "|     16|       Casino (1995)|         Crime|Drama|\n",
            "|     17|Sense and Sensibi...|       Drama|Romance|\n",
            "|     18|   Four Rooms (1995)|              Comedy|\n",
            "|     19|Ace Ventura: When...|              Comedy|\n",
            "|     20|  Money Train (1995)|Action|Comedy|Cri...|\n",
            "+-------+--------------------+--------------------+\n",
            "only showing top 20 rows\n",
            "\n"
          ]
        }
      ]
    },
    {
      "cell_type": "code",
      "metadata": {
        "id": "hMAab2rJSagU",
        "colab": {
          "base_uri": "https://localhost:8080/"
        },
        "outputId": "850b0982-a505-4d9d-f40a-c7f1ef983dae"
      },
      "source": [
        "print(\"In total there are {0} movies\".format(movies.count()))"
      ],
      "execution_count": 9,
      "outputs": [
        {
          "output_type": "stream",
          "name": "stdout",
          "text": [
            "In total there are 9742 movies\n"
          ]
        }
      ]
    },
    {
      "cell_type": "code",
      "metadata": {
        "id": "Mwv3q2vU5xAu"
      },
      "source": [
        "# TODO \n",
        "# How many ratings are there for each movie id? \n",
        "# Sort descending by the count of ratings. \n",
        "# Do not use SQL for this cell. \n",
        "\n",
        "movie_counts = None"
      ],
      "execution_count": 10,
      "outputs": []
    },
    {
      "cell_type": "markdown",
      "metadata": {
        "id": "oziFrQ8qXuer"
      },
      "source": [
        "Expected result: \n",
        "\n",
        "<pre>\n",
        "+-------+---+\n",
        "|movieid|cnt|\n",
        "+-------+---+\n",
        "|    356|329|\n",
        "|    318|317|\n",
        "|    296|307|\n",
        "|    593|279|\n",
        "|   2571|278|\n",
        "|    260|251|\n",
        "|    480|238|\n",
        "|    110|237|\n",
        "|    589|224|\n",
        "|    527|220|\n",
        "|   2959|218|\n",
        "|      1|215|\n",
        "|   1196|211|\n",
        "|   2858|204|\n",
        "|     50|204|\n",
        "|     47|203|\n",
        "|    780|202|\n",
        "|    150|201|\n",
        "|   1198|200|\n",
        "|   4993|198|\n",
        "+-------+---+\n",
        "only showing top 20 rows\n",
        "</pre>"
      ]
    },
    {
      "cell_type": "code",
      "metadata": {
        "id": "I4pu0rqijOX7"
      },
      "source": [
        "# TODO\n",
        "# Register the ratings and movies dataframes as tables \n",
        "# so that we can execute sql queries on them. \n",
        "\n"
      ],
      "execution_count": 11,
      "outputs": []
    },
    {
      "cell_type": "code",
      "metadata": {
        "id": "ED7Eqnl9jYrm"
      },
      "source": [
        "# TODO\n",
        "# Use SQL\n",
        "# How many ratings are there for each movie id? \n",
        "# Sort descending by the count of ratings. \n",
        "\n"
      ],
      "execution_count": 12,
      "outputs": []
    },
    {
      "cell_type": "markdown",
      "metadata": {
        "id": "nzocoO_vYg-q"
      },
      "source": [
        "Expected result: same as before. "
      ]
    },
    {
      "cell_type": "code",
      "metadata": {
        "id": "OabI8qdGkmad"
      },
      "source": [
        "# TODO\n",
        "# Use SQL\n",
        "# Find the average rating for each movie that has more than 50 ratings. \n",
        "# Sort descending by average rating. \n",
        "\n"
      ],
      "execution_count": 13,
      "outputs": []
    },
    {
      "cell_type": "markdown",
      "metadata": {
        "id": "waI-3bb5Y6U_"
      },
      "source": [
        "Expected result: \n",
        "\n",
        "<pre>\n",
        "+-------+--------------------+------------------+\n",
        "|movieId|               title|         avgrating|\n",
        "+-------+--------------------+------------------+\n",
        "|    318|Shawshank Redempt...| 4.429022082018927|\n",
        "|    858|Godfather, The (1...|         4.2890625|\n",
        "|   2959|   Fight Club (1999)| 4.272935779816514|\n",
        "|   1276|Cool Hand Luke (1...| 4.271929824561403|\n",
        "|    750|Dr. Strangelove o...| 4.268041237113402|\n",
        "|    904|  Rear Window (1954)| 4.261904761904762|\n",
        "|   1221|Godfather: Part I...|  4.25968992248062|\n",
        "|  48516|Departed, The (2006)| 4.252336448598131|\n",
        "|   1213|   Goodfellas (1990)|              4.25|\n",
        "|    912|   Casablanca (1942)|              4.24|\n",
        "|  58559|Dark Knight, The ...| 4.238255033557047|\n",
        "|     50|Usual Suspects, T...| 4.237745098039215|\n",
        "|   1197|Princess Bride, T...| 4.232394366197183|\n",
        "|    260|Star Wars: Episod...| 4.231075697211155|\n",
        "|    527|Schindler's List ...|             4.225|\n",
        "|   1208|Apocalypse Now (1...| 4.219626168224299|\n",
        "|   2329|American History ...| 4.217054263565892|\n",
        "|   1196|Star Wars: Episod...|4.2156398104265405|\n",
        "|   1252|    Chinatown (1974)| 4.211864406779661|\n",
        "|   1198|Raiders of the Lo...|            4.2075|\n",
        "+-------+--------------------+------------------+\n",
        "only showing top 20 rows\n",
        "</pre>"
      ]
    },
    {
      "cell_type": "code",
      "metadata": {
        "colab": {
          "base_uri": "https://localhost:8080/"
        },
        "id": "OgeQy1isVOWv",
        "outputId": "469f2d6d-28ae-4d59-ab15-45f04dd3b954"
      },
      "source": [
        "movies.show()"
      ],
      "execution_count": 14,
      "outputs": [
        {
          "output_type": "stream",
          "name": "stdout",
          "text": [
            "+-------+--------------------+--------------------+\n",
            "|movieId|               title|              genres|\n",
            "+-------+--------------------+--------------------+\n",
            "|      1|    Toy Story (1995)|Adventure|Animati...|\n",
            "|      2|      Jumanji (1995)|Adventure|Childre...|\n",
            "|      3|Grumpier Old Men ...|      Comedy|Romance|\n",
            "|      4|Waiting to Exhale...|Comedy|Drama|Romance|\n",
            "|      5|Father of the Bri...|              Comedy|\n",
            "|      6|         Heat (1995)|Action|Crime|Thri...|\n",
            "|      7|      Sabrina (1995)|      Comedy|Romance|\n",
            "|      8| Tom and Huck (1995)|  Adventure|Children|\n",
            "|      9| Sudden Death (1995)|              Action|\n",
            "|     10|    GoldenEye (1995)|Action|Adventure|...|\n",
            "|     11|American Presiden...|Comedy|Drama|Romance|\n",
            "|     12|Dracula: Dead and...|       Comedy|Horror|\n",
            "|     13|        Balto (1995)|Adventure|Animati...|\n",
            "|     14|        Nixon (1995)|               Drama|\n",
            "|     15|Cutthroat Island ...|Action|Adventure|...|\n",
            "|     16|       Casino (1995)|         Crime|Drama|\n",
            "|     17|Sense and Sensibi...|       Drama|Romance|\n",
            "|     18|   Four Rooms (1995)|              Comedy|\n",
            "|     19|Ace Ventura: When...|              Comedy|\n",
            "|     20|  Money Train (1995)|Action|Comedy|Cri...|\n",
            "+-------+--------------------+--------------------+\n",
            "only showing top 20 rows\n",
            "\n"
          ]
        }
      ]
    },
    {
      "cell_type": "code",
      "metadata": {
        "id": "TF86JmYL6j7O"
      },
      "source": [
        "# TODO\n",
        "# Here we want to extract the genres from the movies table. \n",
        "# This can be done easily using the underlying RDD of the movies dataframe. \n",
        "\n"
      ],
      "execution_count": 15,
      "outputs": []
    },
    {
      "cell_type": "markdown",
      "metadata": {
        "id": "bOtvaD0YZJpw"
      },
      "source": [
        "Expected result (showing 20 elements only): \n",
        "\n",
        "<pre>\n",
        "[('1', 'Adventure|Animation|Children|Comedy|Fantasy'),\n",
        " ('2', 'Adventure|Children|Fantasy'),\n",
        " ('3', 'Comedy|Romance'),\n",
        " ('4', 'Comedy|Drama|Romance'),\n",
        " ('5', 'Comedy'),\n",
        " ('6', 'Action|Crime|Thriller'),\n",
        " ('7', 'Comedy|Romance'),\n",
        " ('8', 'Adventure|Children'),\n",
        " ('9', 'Action'),\n",
        " ('10', 'Action|Adventure|Thriller'),\n",
        " ('11', 'Comedy|Drama|Romance'),\n",
        " ('12', 'Comedy|Horror'),\n",
        " ('13', 'Adventure|Animation|Children'),\n",
        " ('14', 'Drama'),\n",
        " ('15', 'Action|Adventure|Romance'),\n",
        " ('16', 'Crime|Drama'),\n",
        " ('17', 'Drama|Romance'),\n",
        " ('18', 'Comedy'),\n",
        " ('19', 'Comedy'),\n",
        " ('20', 'Action|Comedy|Crime|Drama|Thriller')]\n",
        "</pre>"
      ]
    },
    {
      "cell_type": "code",
      "metadata": {
        "id": "ao9Hd6-kPsrO"
      },
      "source": [
        "# TODO\n",
        "# Now we want to create a flattened out RDD of (movieId, genre) pairs.\n",
        "# Use flatMapValues on the previous RDD. \n",
        "# See: https://spark.apache.org/docs/1.1.1/api/python/pyspark.rdd.RDD-class.html#flatMapValues\n",
        "# Call the result RDD: moviegenres_flat_rdd\n",
        "\n"
      ],
      "execution_count": 16,
      "outputs": []
    },
    {
      "cell_type": "markdown",
      "metadata": {
        "id": "JmfAzacHZh6n"
      },
      "source": [
        "Expected result (showing 20 elements only):\n",
        "\n",
        "<pre>\n",
        "[('1', 'Adventure'),\n",
        " ('1', 'Animation'),\n",
        " ('1', 'Children'),\n",
        " ('1', 'Comedy'),\n",
        " ('1', 'Fantasy'),\n",
        " ('2', 'Adventure'),\n",
        " ('2', 'Children'),\n",
        " ('2', 'Fantasy'),\n",
        " ('3', 'Comedy'),\n",
        " ('3', 'Romance'),\n",
        " ('4', 'Comedy'),\n",
        " ('4', 'Drama'),\n",
        " ('4', 'Romance'),\n",
        " ('5', 'Comedy'),\n",
        " ('6', 'Action'),\n",
        " ('6', 'Crime'),\n",
        " ('6', 'Thriller'),\n",
        " ('7', 'Comedy'),\n",
        " ('7', 'Romance'),\n",
        " ('8', 'Adventure')]\n",
        "</pre>"
      ]
    },
    {
      "cell_type": "code",
      "metadata": {
        "id": "BphvUZxZRdCY"
      },
      "source": [
        "# TODO\n",
        "# Now convert the last RDD into a dataframe for further analytics. \n",
        "# Just uncomment the following lines. \n",
        "\n",
        "# moviegenres = spark.createDataFrame(moviegenres_flat_rdd).toDF(\"movieId\", \"genre\")\n",
        "# moviegenres.show()\n",
        "\n",
        "# # Register dataframe as a table.\n",
        "# moviegenres.registerTempTable('moviegenres')"
      ],
      "execution_count": 17,
      "outputs": []
    },
    {
      "cell_type": "markdown",
      "metadata": {
        "id": "BvdV8S47aXGM"
      },
      "source": [
        "Expected result: \n",
        "\n",
        "<pre>\n",
        "+-------+---------+\n",
        "|movieId|    genre|\n",
        "+-------+---------+\n",
        "|      1|Adventure|\n",
        "|      1|Animation|\n",
        "|      1| Children|\n",
        "|      1|   Comedy|\n",
        "|      1|  Fantasy|\n",
        "|      2|Adventure|\n",
        "|      2| Children|\n",
        "|      2|  Fantasy|\n",
        "|      3|   Comedy|\n",
        "|      3|  Romance|\n",
        "|      4|   Comedy|\n",
        "|      4|    Drama|\n",
        "|      4|  Romance|\n",
        "|      5|   Comedy|\n",
        "|      6|   Action|\n",
        "|      6|    Crime|\n",
        "|      6| Thriller|\n",
        "|      7|   Comedy|\n",
        "|      7|  Romance|\n",
        "|      8|Adventure|\n",
        "+-------+---------+\n",
        "only showing top 20 rows\n",
        "</pre>"
      ]
    },
    {
      "cell_type": "code",
      "metadata": {
        "id": "_FSzR6fNSMLq"
      },
      "source": [
        "# TODO\n",
        "# Use SQL\n",
        "# Find the average rating for each genre that has at least 50 ratings. \n",
        "# Order descending by average rating. \n",
        "\n"
      ],
      "execution_count": 18,
      "outputs": []
    },
    {
      "cell_type": "markdown",
      "metadata": {
        "id": "q4GTUNAReOcn"
      },
      "source": [
        "Expected result: \n",
        "\n",
        "<pre>\n",
        "+-----------+------------------+\n",
        "|      genre|         avgrating|\n",
        "+-----------+------------------+\n",
        "|  Film-Noir| 3.920114942528736|\n",
        "|        War|   3.8082938876312|\n",
        "|Documentary| 3.797785069729286|\n",
        "|      Crime| 3.658293867274144|\n",
        "|      Drama|3.6561844113718758|\n",
        "|    Mystery| 3.632460255407871|\n",
        "|  Animation|3.6299370349170004|\n",
        "|       IMAX| 3.618335343787696|\n",
        "|    Western| 3.583937823834197|\n",
        "|    Musical|3.5636781053649105|\n",
        "|  Adventure|3.5086089151939075|\n",
        "|    Romance|3.5065107040388437|\n",
        "|   Thriller|3.4937055799183425|\n",
        "|    Fantasy|3.4910005070136894|\n",
        "|     Sci-Fi| 3.455721162210752|\n",
        "|     Action| 3.447984331646809|\n",
        "|   Children| 3.412956125108601|\n",
        "|     Comedy|3.3847207640898267|\n",
        "|     Horror| 3.258195034974626|\n",
        "+-----------+------------------+\n",
        "</pre>"
      ]
    },
    {
      "cell_type": "markdown",
      "metadata": {
        "id": "5wQNXQnOSaga"
      },
      "source": [
        "The Dataframe is small enough to be moved to Pandas:"
      ]
    },
    {
      "cell_type": "code",
      "metadata": {
        "id": "4nVJdPLDSagb"
      },
      "source": [
        "# Uncomment following lines. \n",
        "# result_pd = result.toPandas()\n",
        "# result_pd.head()"
      ],
      "execution_count": 19,
      "outputs": []
    },
    {
      "cell_type": "markdown",
      "metadata": {
        "id": "VQedtuQZSagc"
      },
      "source": [
        "Let's plot a barchart:"
      ]
    },
    {
      "cell_type": "code",
      "metadata": {
        "id": "tgbceprDSagd"
      },
      "source": [
        "# Uncomment following line. \n",
        "# result_pd.plot(kind=\"bar\", x=\"genre\", y=\"avgrating\")"
      ],
      "execution_count": 20,
      "outputs": []
    }
  ]
}