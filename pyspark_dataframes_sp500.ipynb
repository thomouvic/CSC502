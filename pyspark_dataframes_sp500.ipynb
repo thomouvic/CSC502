{
  "nbformat": 4,
  "nbformat_minor": 0,
  "metadata": {
    "kernelspec": {
      "display_name": "Python 3",
      "language": "python",
      "name": "python3"
    },
    "language_info": {
      "codemirror_mode": {
        "name": "ipython",
        "version": 3
      },
      "file_extension": ".py",
      "mimetype": "text/x-python",
      "name": "python",
      "nbconvert_exporter": "python",
      "pygments_lexer": "ipython3",
      "version": "3.7.3"
    },
    "colab": {
      "provenance": [],
      "machine_shape": "hm",
      "include_colab_link": true
    }
  },
  "cells": [
    {
      "cell_type": "markdown",
      "metadata": {
        "id": "view-in-github",
        "colab_type": "text"
      },
      "source": [
        "<a href=\"https://colab.research.google.com/github/thomouvic/CSC502/blob/main/pyspark_dataframes_sp500.ipynb\" target=\"_parent\"><img src=\"https://colab.research.google.com/assets/colab-badge.svg\" alt=\"Open In Colab\"/></a>"
      ]
    },
    {
      "cell_type": "markdown",
      "metadata": {
        "id": "GTwDFnjHMk25"
      },
      "source": [
        "## Spark Dataframes Tutorial "
      ]
    },
    {
      "cell_type": "code",
      "metadata": {
        "id": "dhzk3GE6S9RC"
      },
      "source": [
        "!apt-get install openjdk-8-jdk-headless -qq > /dev/null\n",
        "!wget -q https://archive.apache.org/dist/spark/spark-3.3.2/spark-3.3.2-bin-hadoop2.tgz\n",
        "!tar xf spark-3.3.2-bin-hadoop2.tgz"
      ],
      "execution_count": null,
      "outputs": []
    },
    {
      "cell_type": "code",
      "source": [
        "!pip install -q findspark\n",
        "\n",
        "import os\n",
        "os.environ[\"JAVA_HOME\"] = \"/usr/lib/jvm/java-8-openjdk-amd64\"\n",
        "os.environ[\"SPARK_HOME\"] = \"/content/spark-3.3.2-bin-hadoop2\"\n",
        "\n",
        "import findspark\n",
        "findspark.init(\"spark-3.3.2-bin-hadoop2\")# SPARK_HOME\n",
        "\n",
        "import pyspark\n",
        "from pyspark.sql import *\n",
        "from pyspark.sql.functions import *\n",
        "from pyspark import SparkContext, SparkConf\n",
        "\n",
        "sc = SparkContext.getOrCreate()\n",
        "spark = SparkSession.builder.getOrCreate()"
      ],
      "metadata": {
        "id": "hX6a6V13H4_D"
      },
      "execution_count": null,
      "outputs": []
    },
    {
      "cell_type": "code",
      "metadata": {
        "colab": {
          "base_uri": "https://localhost:8080/"
        },
        "id": "rzNSIhd90Fj4",
        "outputId": "2e87b018-4539-45de-e307-ac373f084f92"
      },
      "source": [
        "from google.colab import drive\n",
        "drive.mount('/content/drive')"
      ],
      "execution_count": null,
      "outputs": [
        {
          "output_type": "stream",
          "name": "stdout",
          "text": [
            "Mounted at /content/drive\n"
          ]
        }
      ]
    },
    {
      "cell_type": "code",
      "metadata": {
        "id": "XLyVPuLXSagK"
      },
      "source": [
        "sp500 = spark.read.csv(\"/content/drive/MyDrive/sp500.csv\", header=True)\n",
        "history = spark.read.csv(\"/content/drive/MyDrive/history.csv\", header=True)"
      ],
      "execution_count": null,
      "outputs": []
    },
    {
      "cell_type": "markdown",
      "metadata": {
        "id": "MP2JmCeoSagM"
      },
      "source": [
        "Check the schema:"
      ]
    },
    {
      "cell_type": "code",
      "metadata": {
        "id": "KpUT8viNSagM",
        "colab": {
          "base_uri": "https://localhost:8080/"
        },
        "outputId": "958d2402-7e47-4baa-c88d-9ff61ef2acab"
      },
      "source": [
        "sp500.printSchema()\n",
        "history.printSchema()"
      ],
      "execution_count": null,
      "outputs": [
        {
          "output_type": "stream",
          "name": "stdout",
          "text": [
            "root\n",
            " |-- Symbol: string (nullable = true)\n",
            " |-- Security: string (nullable = true)\n",
            " |-- Sector: string (nullable = true)\n",
            " |-- SubIndustry: string (nullable = true)\n",
            " |-- Address: string (nullable = true)\n",
            " |-- State: string (nullable = true)\n",
            "\n",
            "root\n",
            " |-- symbol: string (nullable = true)\n",
            " |-- day: string (nullable = true)\n",
            " |-- open: string (nullable = true)\n",
            " |-- high: string (nullable = true)\n",
            " |-- low: string (nullable = true)\n",
            " |-- close: string (nullable = true)\n",
            " |-- volume: string (nullable = true)\n",
            " |-- adjclose: string (nullable = true)\n",
            "\n"
          ]
        }
      ]
    },
    {
      "cell_type": "markdown",
      "metadata": {
        "id": "1jP5IBezSagQ"
      },
      "source": [
        "Get a sample with `take()`:"
      ]
    },
    {
      "cell_type": "code",
      "metadata": {
        "id": "jrJpiG5ISagQ",
        "colab": {
          "base_uri": "https://localhost:8080/"
        },
        "outputId": "a8102c00-b8a6-4ab2-90d7-acd96d2154ee"
      },
      "source": [
        "sp500.take(3)"
      ],
      "execution_count": null,
      "outputs": [
        {
          "output_type": "execute_result",
          "data": {
            "text/plain": [
              "[Row(Symbol='A', Security='Agilent Technologies Inc', Sector='Health Care', SubIndustry='Health Care Equipment & Services', Address='Santa Clara', State='California'),\n",
              " Row(Symbol='AA', Security='Alcoa Inc', Sector='Materials', SubIndustry='Aluminum', Address='New York', State='New York'),\n",
              " Row(Symbol='AAL', Security='American Airlines Group', Sector='Industrials', SubIndustry='Airlines', Address='Fort Worth', State='Texas')]"
            ]
          },
          "metadata": {},
          "execution_count": 6
        }
      ]
    },
    {
      "cell_type": "markdown",
      "metadata": {
        "id": "iu7n8KKjSagS"
      },
      "source": [
        "Get a formatted sample with `show()`:"
      ]
    },
    {
      "cell_type": "code",
      "metadata": {
        "id": "nwYZrwanSagT",
        "colab": {
          "base_uri": "https://localhost:8080/"
        },
        "outputId": "e6da1361-6c8e-4db0-a967-a8931ecc751b"
      },
      "source": [
        "sp500.show()"
      ],
      "execution_count": null,
      "outputs": [
        {
          "output_type": "stream",
          "name": "stdout",
          "text": [
            "+------+--------------------+--------------------+--------------------+-------------+-------------+\n",
            "|Symbol|            Security|              Sector|         SubIndustry|      Address|        State|\n",
            "+------+--------------------+--------------------+--------------------+-------------+-------------+\n",
            "|     A|Agilent Technolog...|         Health Care|Health Care Equip...|  Santa Clara|   California|\n",
            "|    AA|           Alcoa Inc|           Materials|            Aluminum|     New York|     New York|\n",
            "|   AAL|American Airlines...|         Industrials|            Airlines|   Fort Worth|        Texas|\n",
            "|   AAP|  Advance Auto Parts|Consumer Discreti...|   Automotive Retail|      Roanoke|     Virginia|\n",
            "|  AAPL|          Apple Inc.|Information Techn...|   Computer Hardware|    Cupertino|   California|\n",
            "|  ABBV|              AbbVie|         Health Care|     Pharmaceuticals|North Chicago|     Illinois|\n",
            "|   ABC|AmerisourceBergen...|         Health Care|Health Care Distr...| Chesterbrook| Pennsylvania|\n",
            "|   ABT| Abbott Laboratories|         Health Care|Health Care Equip...|North Chicago|     Illinois|\n",
            "|   ACE|         ACE Limited|          Financials|Property & Casual...|       Zurich|  Switzerland|\n",
            "|   ACN|       Accenture plc|Information Techn...|IT Consulting & O...|       Dublin|      Ireland|\n",
            "|  ADBE|   Adobe Systems Inc|Information Techn...|Application Software|     San Jose|   California|\n",
            "|   ADI|Analog Devices, Inc.|Information Techn...|      Semiconductors|      Norwood|Massachusetts|\n",
            "|   ADM|Archer-Daniels-Mi...|    Consumer Staples|Agricultural Prod...|      Decatur|     Illinois|\n",
            "|   ADP|Automatic Data Pr...|Information Techn...|Internet Software...|     Roseland|   New Jersey|\n",
            "|   ADS|Alliance Data Sys...|Information Techn...|Data Processing &...|        Plano|        Texas|\n",
            "|  ADSK|        Autodesk Inc|Information Techn...|Application Software|   San Rafael|   California|\n",
            "|   ADT|            ADT Corp|         Industrials|Diversified Comme...|   Boca Raton|      Florida|\n",
            "|   AEE|         Ameren Corp|           Utilities|      MultiUtilities|    St. Louis|     Missouri|\n",
            "|   AEP|American Electric...|           Utilities|  Electric Utilities|     Columbus|         Ohio|\n",
            "|   AES|            AES Corp|           Utilities|Independent Power...|    Arlington|     Virginia|\n",
            "+------+--------------------+--------------------+--------------------+-------------+-------------+\n",
            "only showing top 20 rows\n",
            "\n"
          ]
        }
      ]
    },
    {
      "cell_type": "code",
      "metadata": {
        "colab": {
          "base_uri": "https://localhost:8080/"
        },
        "id": "Zj8muhOD2Z81",
        "outputId": "0e3beb3c-dd6b-4291-a9b2-0b08901dab02"
      },
      "source": [
        "history.show()"
      ],
      "execution_count": null,
      "outputs": [
        {
          "output_type": "stream",
          "name": "stdout",
          "text": [
            "+------+----------+-----+-----+-----+-----+-------+--------+\n",
            "|symbol|       day| open| high|  low|close| volume|adjclose|\n",
            "+------+----------+-----+-----+-----+-----+-------+--------+\n",
            "|     A|2015-11-13|37.39|37.57|36.63|36.77|3081000|   36.77|\n",
            "|     A|2015-11-12|37.36|37.77|37.24|37.49|3053000|   37.49|\n",
            "|     A|2015-11-11|38.16|38.22|37.65|37.66|1967900|   37.66|\n",
            "|     A|2015-11-10|37.89|38.17|37.69|37.98|4338700|   37.98|\n",
            "|     A|2015-11-09|38.04|38.08|37.48|37.92|3107100|   37.92|\n",
            "|     A|2015-11-06| 38.1|38.44|37.98|38.14|1964100|   38.14|\n",
            "|     A|2015-11-05|38.27| 38.5|37.93| 38.3|1419800|    38.3|\n",
            "|     A|2015-11-04|38.33|38.48|   38|38.34|1569600|   38.34|\n",
            "|     A|2015-11-03|38.31|38.52|38.16|38.27|1485800|   38.27|\n",
            "|     A|2015-11-02|37.87|38.62| 37.8|38.59|1810800|   38.59|\n",
            "|     A|2015-10-30|37.72| 38.1|37.68|37.76|2191900|   37.76|\n",
            "|     A|2015-10-29|37.47|37.77|37.28| 37.7|1337800|    37.7|\n",
            "|     A|2015-10-28|37.06|37.61|36.77|37.52|1780100|   37.52|\n",
            "|     A|2015-10-27|36.67|37.06|36.47|37.05|2525700|   37.05|\n",
            "|     A|2015-10-26|36.98|37.11|36.69|36.83|1694100|   36.83|\n",
            "|     A|2015-10-23| 36.5|37.27|36.18|37.11|2716400|   37.11|\n",
            "|     A|2015-10-22|36.03|36.95|   36|36.09|3696200|   36.09|\n",
            "|     A|2015-10-21|36.54| 36.6| 35.8| 35.9|2886400|    35.9|\n",
            "|     A|2015-10-20|36.11|36.52|36.03|36.32|2573300|   36.32|\n",
            "|     A|2015-10-19|35.69|36.23|35.59|36.23|3685800|   36.23|\n",
            "+------+----------+-----+-----+-----+-----+-------+--------+\n",
            "only showing top 20 rows\n",
            "\n"
          ]
        }
      ]
    },
    {
      "cell_type": "code",
      "metadata": {
        "id": "hMAab2rJSagU",
        "colab": {
          "base_uri": "https://localhost:8080/"
        },
        "outputId": "ed983dd8-85f3-435f-911d-bca670d36baf"
      },
      "source": [
        "print(\"In total there are {0} companies\".format(sp500.count()))"
      ],
      "execution_count": null,
      "outputs": [
        {
          "output_type": "stream",
          "name": "stdout",
          "text": [
            "In total there are 505 companies\n"
          ]
        }
      ]
    },
    {
      "cell_type": "code",
      "metadata": {
        "colab": {
          "base_uri": "https://localhost:8080/"
        },
        "id": "Mwv3q2vU5xAu",
        "outputId": "10418e37-dc22-40ad-a2d7-42282a14f0bf"
      },
      "source": [
        "# How many companies are there for each sector? Sort descending. \n",
        "\n",
        "sector_counts = sp500.groupBy(\"Sector\")\\\n",
        "                     .agg(count(\"Symbol\").alias(\"cnt\"))\\\n",
        "                     .sort(desc(\"cnt\"))\n",
        "\n",
        "sector_counts.show()"
      ],
      "execution_count": null,
      "outputs": [
        {
          "output_type": "stream",
          "name": "stdout",
          "text": [
            "+--------------------+---+\n",
            "|              Sector|cnt|\n",
            "+--------------------+---+\n",
            "|Consumer Discreti...| 87|\n",
            "|          Financials| 87|\n",
            "|Information Techn...| 69|\n",
            "|         Industrials| 68|\n",
            "|         Health Care| 56|\n",
            "|              Energy| 40|\n",
            "|    Consumer Staples| 37|\n",
            "|           Utilities| 29|\n",
            "|           Materials| 27|\n",
            "|Telecommunication...|  5|\n",
            "+--------------------+---+\n",
            "\n"
          ]
        }
      ]
    },
    {
      "cell_type": "code",
      "metadata": {
        "colab": {
          "base_uri": "https://localhost:8080/"
        },
        "id": "ez0pViAX6viH",
        "outputId": "300654d9-0057-4a17-e171-4b1eabb30157"
      },
      "source": [
        "# What was the dollar volume for each sector on the first business day of 2015?\n",
        "\n",
        "'''\n",
        "select s.sector, round(sum(adjclose*volume)) as dollarvol\n",
        "from history h JOIN sp500 s on h.symbol = s.Symbol\n",
        "where h.day = '2015-01-02'\n",
        "group by s.Sector\n",
        "order by dollarvol desc;\n",
        "'''\n",
        "\n",
        "result = history.join(sp500, on=['Symbol'])\\\n",
        "                .where(col('day')=='2015-01-02')\\\n",
        "                .groupBy('Sector')\\\n",
        "                .agg(round(sum(col('adjclose')*col('volume'))).alias('dollarvol'))\\\n",
        "                .sort(desc('dollarvol'))\n",
        "\n",
        "result.show()"
      ],
      "execution_count": null,
      "outputs": [
        {
          "output_type": "stream",
          "name": "stdout",
          "text": [
            "+--------------------+---------------+\n",
            "|              Sector|      dollarvol|\n",
            "+--------------------+---------------+\n",
            "|Information Techn...|   2.0809525E10|\n",
            "|Consumer Discreti...|1.3220064437E10|\n",
            "|          Financials|1.1222214125E10|\n",
            "|         Health Care|  1.07161041E10|\n",
            "|         Industrials|1.0156687427E10|\n",
            "|              Energy|  8.877061817E9|\n",
            "|    Consumer Staples|  6.130142919E9|\n",
            "|           Materials|  3.153829898E9|\n",
            "|           Utilities|  2.999714128E9|\n",
            "|Telecommunication...|  1.351960029E9|\n",
            "+--------------------+---------------+\n",
            "\n"
          ]
        }
      ]
    },
    {
      "cell_type": "markdown",
      "metadata": {
        "id": "t5trEAkzSagY"
      },
      "source": [
        "In this case we used the DataFrame API, but we could rewrite the expression using pure SQL:"
      ]
    },
    {
      "cell_type": "code",
      "metadata": {
        "id": "3slo-sXOSagZ",
        "colab": {
          "base_uri": "https://localhost:8080/"
        },
        "outputId": "ce838eda-c88c-41ac-e834-512f83a80223"
      },
      "source": [
        "sp500.registerTempTable('sp500')\n",
        "history.registerTempTable('history')\n",
        "\n",
        "query = \"\"\"\n",
        "select s.sector, round(sum(adjclose*volume)) as dollarvol\n",
        "from history h JOIN sp500 s on h.symbol = s.Symbol\n",
        "where h.day = '2015-01-02'\n",
        "group by s.Sector\n",
        "order by dollarvol desc\n",
        "\"\"\"\n",
        "\n",
        "result = spark.sql(query)\n",
        "result.show()"
      ],
      "execution_count": null,
      "outputs": [
        {
          "output_type": "stream",
          "name": "stderr",
          "text": [
            "/content/spark-3.3.2-bin-hadoop2/python/pyspark/sql/dataframe.py:229: FutureWarning: Deprecated in 2.0, use createOrReplaceTempView instead.\n",
            "  warnings.warn(\"Deprecated in 2.0, use createOrReplaceTempView instead.\", FutureWarning)\n"
          ]
        },
        {
          "output_type": "stream",
          "name": "stdout",
          "text": [
            "+--------------------+---------------+\n",
            "|              sector|      dollarvol|\n",
            "+--------------------+---------------+\n",
            "|Information Techn...|   2.0809525E10|\n",
            "|Consumer Discreti...|1.3220064437E10|\n",
            "|          Financials|1.1222214125E10|\n",
            "|         Health Care|  1.07161041E10|\n",
            "|         Industrials|1.0156687427E10|\n",
            "|              Energy|  8.877061817E9|\n",
            "|    Consumer Staples|  6.130142919E9|\n",
            "|           Materials|  3.153829898E9|\n",
            "|           Utilities|  2.999714128E9|\n",
            "|Telecommunication...|  1.351960029E9|\n",
            "+--------------------+---------------+\n",
            "\n"
          ]
        }
      ]
    },
    {
      "cell_type": "markdown",
      "metadata": {
        "id": "5wQNXQnOSaga"
      },
      "source": [
        "The Dataframe is small enough to be moved to Pandas:"
      ]
    },
    {
      "cell_type": "code",
      "metadata": {
        "id": "4nVJdPLDSagb",
        "colab": {
          "base_uri": "https://localhost:8080/",
          "height": 206
        },
        "outputId": "eb515fd4-0cf9-497b-ef40-11f86008288e"
      },
      "source": [
        "result_pd = result.toPandas()\n",
        "result_pd.head()"
      ],
      "execution_count": null,
      "outputs": [
        {
          "output_type": "execute_result",
          "data": {
            "text/plain": [
              "                   sector     dollarvol\n",
              "0  Information Technology  2.080952e+10\n",
              "1  Consumer Discretionary  1.322006e+10\n",
              "2              Financials  1.122221e+10\n",
              "3             Health Care  1.071610e+10\n",
              "4             Industrials  1.015669e+10"
            ],
            "text/html": [
              "\n",
              "  <div id=\"df-35c9db15-8d78-452d-8757-a89ca9554b4c\">\n",
              "    <div class=\"colab-df-container\">\n",
              "      <div>\n",
              "<style scoped>\n",
              "    .dataframe tbody tr th:only-of-type {\n",
              "        vertical-align: middle;\n",
              "    }\n",
              "\n",
              "    .dataframe tbody tr th {\n",
              "        vertical-align: top;\n",
              "    }\n",
              "\n",
              "    .dataframe thead th {\n",
              "        text-align: right;\n",
              "    }\n",
              "</style>\n",
              "<table border=\"1\" class=\"dataframe\">\n",
              "  <thead>\n",
              "    <tr style=\"text-align: right;\">\n",
              "      <th></th>\n",
              "      <th>sector</th>\n",
              "      <th>dollarvol</th>\n",
              "    </tr>\n",
              "  </thead>\n",
              "  <tbody>\n",
              "    <tr>\n",
              "      <th>0</th>\n",
              "      <td>Information Technology</td>\n",
              "      <td>2.080952e+10</td>\n",
              "    </tr>\n",
              "    <tr>\n",
              "      <th>1</th>\n",
              "      <td>Consumer Discretionary</td>\n",
              "      <td>1.322006e+10</td>\n",
              "    </tr>\n",
              "    <tr>\n",
              "      <th>2</th>\n",
              "      <td>Financials</td>\n",
              "      <td>1.122221e+10</td>\n",
              "    </tr>\n",
              "    <tr>\n",
              "      <th>3</th>\n",
              "      <td>Health Care</td>\n",
              "      <td>1.071610e+10</td>\n",
              "    </tr>\n",
              "    <tr>\n",
              "      <th>4</th>\n",
              "      <td>Industrials</td>\n",
              "      <td>1.015669e+10</td>\n",
              "    </tr>\n",
              "  </tbody>\n",
              "</table>\n",
              "</div>\n",
              "      <button class=\"colab-df-convert\" onclick=\"convertToInteractive('df-35c9db15-8d78-452d-8757-a89ca9554b4c')\"\n",
              "              title=\"Convert this dataframe to an interactive table.\"\n",
              "              style=\"display:none;\">\n",
              "        \n",
              "  <svg xmlns=\"http://www.w3.org/2000/svg\" height=\"24px\"viewBox=\"0 0 24 24\"\n",
              "       width=\"24px\">\n",
              "    <path d=\"M0 0h24v24H0V0z\" fill=\"none\"/>\n",
              "    <path d=\"M18.56 5.44l.94 2.06.94-2.06 2.06-.94-2.06-.94-.94-2.06-.94 2.06-2.06.94zm-11 1L8.5 8.5l.94-2.06 2.06-.94-2.06-.94L8.5 2.5l-.94 2.06-2.06.94zm10 10l.94 2.06.94-2.06 2.06-.94-2.06-.94-.94-2.06-.94 2.06-2.06.94z\"/><path d=\"M17.41 7.96l-1.37-1.37c-.4-.4-.92-.59-1.43-.59-.52 0-1.04.2-1.43.59L10.3 9.45l-7.72 7.72c-.78.78-.78 2.05 0 2.83L4 21.41c.39.39.9.59 1.41.59.51 0 1.02-.2 1.41-.59l7.78-7.78 2.81-2.81c.8-.78.8-2.07 0-2.86zM5.41 20L4 18.59l7.72-7.72 1.47 1.35L5.41 20z\"/>\n",
              "  </svg>\n",
              "      </button>\n",
              "      \n",
              "  <style>\n",
              "    .colab-df-container {\n",
              "      display:flex;\n",
              "      flex-wrap:wrap;\n",
              "      gap: 12px;\n",
              "    }\n",
              "\n",
              "    .colab-df-convert {\n",
              "      background-color: #E8F0FE;\n",
              "      border: none;\n",
              "      border-radius: 50%;\n",
              "      cursor: pointer;\n",
              "      display: none;\n",
              "      fill: #1967D2;\n",
              "      height: 32px;\n",
              "      padding: 0 0 0 0;\n",
              "      width: 32px;\n",
              "    }\n",
              "\n",
              "    .colab-df-convert:hover {\n",
              "      background-color: #E2EBFA;\n",
              "      box-shadow: 0px 1px 2px rgba(60, 64, 67, 0.3), 0px 1px 3px 1px rgba(60, 64, 67, 0.15);\n",
              "      fill: #174EA6;\n",
              "    }\n",
              "\n",
              "    [theme=dark] .colab-df-convert {\n",
              "      background-color: #3B4455;\n",
              "      fill: #D2E3FC;\n",
              "    }\n",
              "\n",
              "    [theme=dark] .colab-df-convert:hover {\n",
              "      background-color: #434B5C;\n",
              "      box-shadow: 0px 1px 3px 1px rgba(0, 0, 0, 0.15);\n",
              "      filter: drop-shadow(0px 1px 2px rgba(0, 0, 0, 0.3));\n",
              "      fill: #FFFFFF;\n",
              "    }\n",
              "  </style>\n",
              "\n",
              "      <script>\n",
              "        const buttonEl =\n",
              "          document.querySelector('#df-35c9db15-8d78-452d-8757-a89ca9554b4c button.colab-df-convert');\n",
              "        buttonEl.style.display =\n",
              "          google.colab.kernel.accessAllowed ? 'block' : 'none';\n",
              "\n",
              "        async function convertToInteractive(key) {\n",
              "          const element = document.querySelector('#df-35c9db15-8d78-452d-8757-a89ca9554b4c');\n",
              "          const dataTable =\n",
              "            await google.colab.kernel.invokeFunction('convertToInteractive',\n",
              "                                                     [key], {});\n",
              "          if (!dataTable) return;\n",
              "\n",
              "          const docLinkHtml = 'Like what you see? Visit the ' +\n",
              "            '<a target=\"_blank\" href=https://colab.research.google.com/notebooks/data_table.ipynb>data table notebook</a>'\n",
              "            + ' to learn more about interactive tables.';\n",
              "          element.innerHTML = '';\n",
              "          dataTable['output_type'] = 'display_data';\n",
              "          await google.colab.output.renderOutput(dataTable, element);\n",
              "          const docLink = document.createElement('div');\n",
              "          docLink.innerHTML = docLinkHtml;\n",
              "          element.appendChild(docLink);\n",
              "        }\n",
              "      </script>\n",
              "    </div>\n",
              "  </div>\n",
              "  "
            ]
          },
          "metadata": {},
          "execution_count": 13
        }
      ]
    },
    {
      "cell_type": "markdown",
      "metadata": {
        "id": "VQedtuQZSagc"
      },
      "source": [
        "Let's plot a barchart with the number of missions by country:"
      ]
    },
    {
      "cell_type": "code",
      "metadata": {
        "id": "tgbceprDSagd",
        "colab": {
          "base_uri": "https://localhost:8080/",
          "height": 444
        },
        "outputId": "e7d05f3f-4668-4246-8207-670484f668ff"
      },
      "source": [
        "result_pd.plot(kind=\"bar\", x=\"sector\", y=\"dollarvol\")"
      ],
      "execution_count": null,
      "outputs": [
        {
          "output_type": "execute_result",
          "data": {
            "text/plain": [
              "<Axes: xlabel='sector'>"
            ]
          },
          "metadata": {},
          "execution_count": 14
        },
        {
          "output_type": "display_data",
          "data": {
            "text/plain": [
              "<Figure size 432x288 with 1 Axes>"
            ],
            "image/png": "[encoded data removed]"
          },
          "metadata": {
            "needs_background": "light"
          }
        }
      ]
    },
    {
      "cell_type": "markdown",
      "metadata": {
        "id": "1jCZfwK2Sage"
      },
      "source": [
        "----"
      ]
    },
    {
      "cell_type": "markdown",
      "metadata": {
        "id": "DEW08u3_Sag6"
      },
      "source": [
        "Using RDDs"
      ]
    },
    {
      "cell_type": "code",
      "metadata": {
        "id": "UYO-CuHISag8",
        "colab": {
          "base_uri": "https://localhost:8080/"
        },
        "outputId": "3d0f350a-0a58-4681-97de-0229d00d21aa"
      },
      "source": [
        "# Let's consider again the sector count query\n",
        "\n",
        "sector_counts = sp500.groupBy(\"Sector\")\\\n",
        "                     .agg(count(\"Symbol\")\\\n",
        "                     .alias(\"cnt\"))\\\n",
        "                     .sort(desc(\"cnt\"))\n",
        "\n",
        "sector_counts.show()"
      ],
      "execution_count": null,
      "outputs": [
        {
          "output_type": "stream",
          "name": "stdout",
          "text": [
            "+--------------------+---+\n",
            "|              Sector|cnt|\n",
            "+--------------------+---+\n",
            "|Consumer Discreti...| 87|\n",
            "|          Financials| 87|\n",
            "|Information Techn...| 69|\n",
            "|         Industrials| 68|\n",
            "|         Health Care| 56|\n",
            "|              Energy| 40|\n",
            "|    Consumer Staples| 37|\n",
            "|           Utilities| 29|\n",
            "|           Materials| 27|\n",
            "|Telecommunication...|  5|\n",
            "+--------------------+---+\n",
            "\n"
          ]
        }
      ]
    },
    {
      "cell_type": "code",
      "metadata": {
        "id": "OgEeKdtYSag9",
        "colab": {
          "base_uri": "https://localhost:8080/"
        },
        "outputId": "bda0ce7c-3bf7-4cfe-8469-29d30e3dd17f"
      },
      "source": [
        "sectors_rdd = sp500.rdd.map(lambda row: (row.Sector, 1))\n",
        "sectors_rdd.take(20)"
      ],
      "execution_count": null,
      "outputs": [
        {
          "output_type": "execute_result",
          "data": {
            "text/plain": [
              "[('Health Care', 1),\n",
              " ('Materials', 1),\n",
              " ('Industrials', 1),\n",
              " ('Consumer Discretionary', 1),\n",
              " ('Information Technology', 1),\n",
              " ('Health Care', 1),\n",
              " ('Health Care', 1),\n",
              " ('Health Care', 1),\n",
              " ('Financials', 1),\n",
              " ('Information Technology', 1),\n",
              " ('Information Technology', 1),\n",
              " ('Information Technology', 1),\n",
              " ('Consumer Staples', 1),\n",
              " ('Information Technology', 1),\n",
              " ('Information Technology', 1),\n",
              " ('Information Technology', 1),\n",
              " ('Industrials', 1),\n",
              " ('Utilities', 1),\n",
              " ('Utilities', 1),\n",
              " ('Utilities', 1)]"
            ]
          },
          "metadata": {},
          "execution_count": 16
        }
      ]
    },
    {
      "cell_type": "markdown",
      "metadata": {
        "id": "Akm81xVxSag_"
      },
      "source": [
        "Then, we sum counters in the reduce step, and we sort by count:"
      ]
    },
    {
      "cell_type": "code",
      "metadata": {
        "id": "_hVvIF_WSag_",
        "colab": {
          "base_uri": "https://localhost:8080/"
        },
        "outputId": "60c733cc-7a1e-4fdf-f5a8-06d6408ec73a"
      },
      "source": [
        "sector_counts_rdd = sectors_rdd.reduceByKey(lambda a, b: a+b).sortBy(lambda r: -r[1])\n",
        "sector_counts_rdd.collect()"
      ],
      "execution_count": null,
      "outputs": [
        {
          "output_type": "execute_result",
          "data": {
            "text/plain": [
              "[('Consumer Discretionary', 87),\n",
              " ('Financials', 87),\n",
              " ('Information Technology', 69),\n",
              " ('Industrials', 68),\n",
              " ('Health Care', 56),\n",
              " ('Energy', 40),\n",
              " ('Consumer Staples', 37),\n",
              " ('Utilities', 29),\n",
              " ('Materials', 27),\n",
              " ('Telecommunications Services', 5)]"
            ]
          },
          "metadata": {},
          "execution_count": 17
        }
      ]
    },
    {
      "cell_type": "markdown",
      "metadata": {
        "id": "od5h9c6qSahB"
      },
      "source": [
        "Now we can convert the RDD in dataframe by mapping the pairs to objects of type `Row`"
      ]
    },
    {
      "cell_type": "code",
      "metadata": {
        "id": "KNDn84R_SahB",
        "colab": {
          "base_uri": "https://localhost:8080/"
        },
        "outputId": "0c83952b-6660-476a-f259-623339ed52e8"
      },
      "source": [
        "sector_counts_with_schema = sector_counts_rdd.map(lambda r: Row(Sector=r[0], Count=r[1]))\n",
        "sector_counts_df = spark.createDataFrame(sector_counts_with_schema)\n",
        "sector_counts_df.show()"
      ],
      "execution_count": null,
      "outputs": [
        {
          "output_type": "stream",
          "name": "stdout",
          "text": [
            "+--------------------+-----+\n",
            "|              Sector|Count|\n",
            "+--------------------+-----+\n",
            "|Consumer Discreti...|   87|\n",
            "|          Financials|   87|\n",
            "|Information Techn...|   69|\n",
            "|         Industrials|   68|\n",
            "|         Health Care|   56|\n",
            "|              Energy|   40|\n",
            "|    Consumer Staples|   37|\n",
            "|           Utilities|   29|\n",
            "|           Materials|   27|\n",
            "|Telecommunication...|    5|\n",
            "+--------------------+-----+\n",
            "\n"
          ]
        }
      ]
    }
  ]
}